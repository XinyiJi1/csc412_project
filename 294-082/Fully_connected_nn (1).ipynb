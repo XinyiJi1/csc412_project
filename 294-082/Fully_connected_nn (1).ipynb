{
  "nbformat": 4,
  "nbformat_minor": 0,
  "metadata": {
    "colab": {
      "name": "Fully_connected_nn.ipynb",
      "provenance": []
    },
    "kernelspec": {
      "name": "python3",
      "display_name": "Python 3"
    },
    "language_info": {
      "name": "python"
    }
  },
  "cells": [
    {
      "cell_type": "markdown",
      "source": [
        "# CSC294-082 Project (MLP part)\n",
        "#### Author: Xinyi Ji"
      ],
      "metadata": {
        "id": "GcLgDjyCEPmX"
      }
    },
    {
      "cell_type": "code",
      "execution_count": 1,
      "metadata": {
        "id": "aArOmXEGImcz"
      },
      "outputs": [],
      "source": [
        "# multi-class classification with Keras\n",
        "import pandas\n",
        "import numpy as np\n",
        "from tensorflow import keras\n",
        "from keras.models import Sequential\n",
        "from keras.layers import Dense\n",
        "from keras.wrappers.scikit_learn import KerasClassifier\n",
        "from keras.utils import np_utils\n",
        "from sklearn.preprocessing import LabelEncoder\n",
        "from sklearn.pipeline import Pipeline\n",
        "from keras.utils.vis_utils import plot_model"
      ]
    },
    {
      "cell_type": "code",
      "source": [
        "# load dataset\n",
        "dataframe = pandas.read_csv(\"data_mlp.csv\")\n",
        "dataset = dataframe.values\n",
        "dataset.shape"
      ],
      "metadata": {
        "colab": {
          "base_uri": "https://localhost:8080/"
        },
        "id": "vrns0nmxVdzb",
        "outputId": "d2929eaa-cbb3-43ac-9cbb-825c36ce10de"
      },
      "execution_count": 2,
      "outputs": [
        {
          "output_type": "execute_result",
          "data": {
            "text/plain": [
              "(3370, 513)"
            ]
          },
          "metadata": {},
          "execution_count": 2
        }
      ]
    },
    {
      "cell_type": "code",
      "source": [
        "X = dataset[:,0:512].astype(np.float64)\n",
        "#X = np.around(X, decimals=1)\n",
        "Y = dataset[:,512]\n",
        "#Y = np.random.randint(2, size=3370)"
      ],
      "metadata": {
        "id": "yY6zgn-Fzko7"
      },
      "execution_count": 3,
      "outputs": []
    },
    {
      "cell_type": "code",
      "source": [
        "# encode class values as integers\n",
        "encoder = LabelEncoder()\n",
        "encoder.fit(Y)\n",
        "encoded_Y = encoder.transform(Y)\n",
        "# convert integers to dummy variables (i.e. one hot encoded)\n",
        "dummy_y = np_utils.to_categorical(encoded_Y)"
      ],
      "metadata": {
        "id": "dBvTydVNV3Ro"
      },
      "execution_count": 4,
      "outputs": []
    },
    {
      "cell_type": "code",
      "source": [
        "dummy_y.shape"
      ],
      "metadata": {
        "colab": {
          "base_uri": "https://localhost:8080/"
        },
        "id": "1wU20YbJXTN-",
        "outputId": "c22f7500-c07e-45a3-d54d-dddf82841a06"
      },
      "execution_count": 5,
      "outputs": [
        {
          "output_type": "execute_result",
          "data": {
            "text/plain": [
              "(3370, 23)"
            ]
          },
          "metadata": {},
          "execution_count": 5
        }
      ]
    },
    {
      "cell_type": "code",
      "source": [
        "X_train = X[:1350]\n",
        "Y_train = dummy_y[:1350]"
      ],
      "metadata": {
        "id": "7u3-fsX1c9U6"
      },
      "execution_count": 6,
      "outputs": []
    },
    {
      "cell_type": "code",
      "source": [
        "Y_train"
      ],
      "metadata": {
        "colab": {
          "base_uri": "https://localhost:8080/"
        },
        "id": "1oOwAGIllF8L",
        "outputId": "80d30d6f-075f-4ff1-a3b5-423ce1d00b9d"
      },
      "execution_count": 7,
      "outputs": [
        {
          "output_type": "execute_result",
          "data": {
            "text/plain": [
              "array([[0., 0., 0., ..., 0., 0., 0.],\n",
              "       [0., 0., 0., ..., 0., 0., 0.],\n",
              "       [0., 0., 0., ..., 0., 0., 0.],\n",
              "       ...,\n",
              "       [0., 0., 0., ..., 0., 1., 0.],\n",
              "       [0., 0., 0., ..., 0., 0., 1.],\n",
              "       [0., 0., 0., ..., 0., 1., 0.]], dtype=float32)"
            ]
          },
          "metadata": {},
          "execution_count": 7
        }
      ]
    },
    {
      "cell_type": "code",
      "source": [
        "X_train"
      ],
      "metadata": {
        "colab": {
          "base_uri": "https://localhost:8080/"
        },
        "id": "eYhL72OblDxv",
        "outputId": "0bea9efc-1f98-4460-9188-d60951cbbf2b"
      },
      "execution_count": 8,
      "outputs": [
        {
          "output_type": "execute_result",
          "data": {
            "text/plain": [
              "array([[ 0.8566797 , -0.09067627,  2.1675096 , ..., -0.02354876,\n",
              "        -0.42005473,  2.2905538 ],\n",
              "       [ 1.3376818 ,  0.29317108, -0.50810033, ...,  0.724914  ,\n",
              "         1.153408  ,  2.4276733 ],\n",
              "       [ 0.42092505, -0.76437867,  0.19995171, ..., -0.41374078,\n",
              "         1.9166131 ,  0.8479354 ],\n",
              "       ...,\n",
              "       [ 1.8689815 ,  0.69932663,  2.5440888 , ...,  0.1756024 ,\n",
              "         0.525333  ,  0.02431944],\n",
              "       [ 0.26733002,  0.14383799,  0.6691898 , ..., -1.4358457 ,\n",
              "         0.11629669, -1.3332714 ],\n",
              "       [ 0.22127318,  0.00877387,  0.50643474, ..., -1.5907007 ,\n",
              "         0.08781882, -1.3661705 ]])"
            ]
          },
          "metadata": {},
          "execution_count": 8
        }
      ]
    },
    {
      "cell_type": "code",
      "source": [
        "X_val = X[2700: 2700+370]\n",
        "Y_val = dummy_y[2700: 2700+370]"
      ],
      "metadata": {
        "id": "jetKgPqidGsP"
      },
      "execution_count": 9,
      "outputs": []
    },
    {
      "cell_type": "code",
      "source": [
        "X_test = X[2700+370:]\n",
        "Y_test = dummy_y[2700+370:]"
      ],
      "metadata": {
        "id": "R6HH-6w1dXAX"
      },
      "execution_count": 10,
      "outputs": []
    },
    {
      "cell_type": "code",
      "source": [
        "# define baseline model\n",
        "\n",
        "# create model\n",
        "model = Sequential()\n",
        "model.add(Dense(10240, input_dim=512, activation='relu'))\n",
        "model.add(Dense(10240, input_dim=10240, activation='relu'))\n",
        "model.add(Dense(23, activation='softmax'))\n",
        "# Compile model\n",
        "model.compile(loss='categorical_crossentropy', optimizer='adam', metrics=['accuracy'])\n",
        "plot_model(model, to_file='model_plot.png', show_shapes=True, show_layer_names=True)"
      ],
      "metadata": {
        "colab": {
          "base_uri": "https://localhost:8080/",
          "height": 422
        },
        "id": "odvorlcEzyE6",
        "outputId": "230a702a-0789-4943-93df-8342775c01e8"
      },
      "execution_count": 11,
      "outputs": [
        {
          "output_type": "execute_result",
          "data": {
            "image/png": "[encoded data removed]",
            "text/plain": [
              "<IPython.core.display.Image object>"
            ]
          },
          "metadata": {},
          "execution_count": 11
        }
      ]
    },
    {
      "cell_type": "code",
      "source": [
        "history = model.fit(X_train,Y_train, validation_data=(X_val, Y_val), epochs=200, batch_size=10)"
      ],
      "metadata": {
        "colab": {
          "base_uri": "https://localhost:8080/"
        },
        "id": "KjZRhr1Xz2Vp",
        "outputId": "dc3c8615-c578-4d1f-b7bf-2ea6786fad4d"
      },
      "execution_count": 12,
      "outputs": [
        {
          "output_type": "stream",
          "name": "stdout",
          "text": [
            "Epoch 1/200\n",
            "135/135 [==============================] - 118s 854ms/step - loss: 3.8856 - accuracy: 0.0570 - val_loss: 3.1483 - val_accuracy: 0.0595\n",
            "Epoch 2/200\n",
            "135/135 [==============================] - 114s 844ms/step - loss: 3.1466 - accuracy: 0.0689 - val_loss: 3.1170 - val_accuracy: 0.0730\n",
            "Epoch 3/200\n",
            "135/135 [==============================] - 111s 825ms/step - loss: 3.1259 - accuracy: 0.0689 - val_loss: 3.1024 - val_accuracy: 0.0865\n",
            "Epoch 4/200\n",
            "135/135 [==============================] - 112s 828ms/step - loss: 3.1049 - accuracy: 0.0674 - val_loss: 3.0858 - val_accuracy: 0.0811\n",
            "Epoch 5/200\n",
            "135/135 [==============================] - 112s 827ms/step - loss: 3.0987 - accuracy: 0.0652 - val_loss: 3.0969 - val_accuracy: 0.0892\n",
            "Epoch 6/200\n",
            "135/135 [==============================] - 111s 823ms/step - loss: 3.0911 - accuracy: 0.0652 - val_loss: 3.1144 - val_accuracy: 0.0946\n",
            "Epoch 7/200\n",
            "135/135 [==============================] - 116s 860ms/step - loss: 3.0861 - accuracy: 0.0778 - val_loss: 3.0918 - val_accuracy: 0.0811\n",
            "Epoch 8/200\n",
            "135/135 [==============================] - 113s 836ms/step - loss: 3.0865 - accuracy: 0.0726 - val_loss: 3.1024 - val_accuracy: 0.0946\n",
            "Epoch 9/200\n",
            "135/135 [==============================] - 113s 839ms/step - loss: 3.0781 - accuracy: 0.0756 - val_loss: 3.0978 - val_accuracy: 0.0919\n",
            "Epoch 10/200\n",
            "135/135 [==============================] - 112s 831ms/step - loss: 3.0779 - accuracy: 0.0807 - val_loss: 3.1364 - val_accuracy: 0.0892\n",
            "Epoch 11/200\n",
            "135/135 [==============================] - 113s 836ms/step - loss: 3.0800 - accuracy: 0.0815 - val_loss: 3.0875 - val_accuracy: 0.0811\n",
            "Epoch 12/200\n",
            "135/135 [==============================] - 113s 838ms/step - loss: 3.0821 - accuracy: 0.0793 - val_loss: 3.1016 - val_accuracy: 0.0811\n",
            "Epoch 13/200\n",
            "135/135 [==============================] - 113s 837ms/step - loss: 3.0752 - accuracy: 0.0778 - val_loss: 3.1048 - val_accuracy: 0.0784\n",
            "Epoch 14/200\n",
            "135/135 [==============================] - 113s 836ms/step - loss: 3.0741 - accuracy: 0.0778 - val_loss: 3.1161 - val_accuracy: 0.0892\n",
            "Epoch 15/200\n",
            "135/135 [==============================] - 113s 836ms/step - loss: 3.0744 - accuracy: 0.0741 - val_loss: 3.1234 - val_accuracy: 0.0892\n",
            "Epoch 16/200\n",
            "135/135 [==============================] - 114s 843ms/step - loss: 3.0714 - accuracy: 0.0763 - val_loss: 3.1005 - val_accuracy: 0.0784\n",
            "Epoch 17/200\n",
            "135/135 [==============================] - 115s 855ms/step - loss: 3.0694 - accuracy: 0.0696 - val_loss: 3.1488 - val_accuracy: 0.0892\n",
            "Epoch 18/200\n",
            "135/135 [==============================] - 113s 834ms/step - loss: 3.0713 - accuracy: 0.0807 - val_loss: 3.1249 - val_accuracy: 0.0892\n",
            "Epoch 19/200\n",
            "135/135 [==============================] - 113s 835ms/step - loss: 3.0687 - accuracy: 0.0726 - val_loss: 3.1219 - val_accuracy: 0.0892\n",
            "Epoch 20/200\n",
            "135/135 [==============================] - 112s 830ms/step - loss: 3.0720 - accuracy: 0.0815 - val_loss: 3.0936 - val_accuracy: 0.0865\n",
            "Epoch 21/200\n",
            "135/135 [==============================] - 112s 831ms/step - loss: 3.0704 - accuracy: 0.0830 - val_loss: 3.1123 - val_accuracy: 0.0838\n",
            "Epoch 22/200\n",
            "135/135 [==============================] - 112s 830ms/step - loss: 3.0664 - accuracy: 0.0741 - val_loss: 3.1274 - val_accuracy: 0.0811\n",
            "Epoch 23/200\n",
            "135/135 [==============================] - 112s 833ms/step - loss: 3.0640 - accuracy: 0.0793 - val_loss: 3.1576 - val_accuracy: 0.0784\n",
            "Epoch 24/200\n",
            "135/135 [==============================] - 113s 837ms/step - loss: 3.0639 - accuracy: 0.0822 - val_loss: 3.1220 - val_accuracy: 0.0946\n",
            "Epoch 25/200\n",
            "135/135 [==============================] - 113s 840ms/step - loss: 3.0645 - accuracy: 0.0793 - val_loss: 3.1237 - val_accuracy: 0.0865\n",
            "Epoch 26/200\n",
            "135/135 [==============================] - 112s 830ms/step - loss: 3.0660 - accuracy: 0.0778 - val_loss: 3.1298 - val_accuracy: 0.0919\n",
            "Epoch 27/200\n",
            "135/135 [==============================] - 112s 831ms/step - loss: 3.0625 - accuracy: 0.0763 - val_loss: 3.1562 - val_accuracy: 0.0811\n",
            "Epoch 28/200\n",
            "135/135 [==============================] - 112s 829ms/step - loss: 3.0636 - accuracy: 0.0793 - val_loss: 3.1485 - val_accuracy: 0.0811\n",
            "Epoch 29/200\n",
            "135/135 [==============================] - 112s 828ms/step - loss: 3.0641 - accuracy: 0.0748 - val_loss: 3.1486 - val_accuracy: 0.0811\n",
            "Epoch 30/200\n",
            "135/135 [==============================] - 112s 830ms/step - loss: 3.0646 - accuracy: 0.0815 - val_loss: 3.1226 - val_accuracy: 0.0811\n",
            "Epoch 31/200\n",
            "135/135 [==============================] - 113s 835ms/step - loss: 3.0636 - accuracy: 0.0756 - val_loss: 3.1484 - val_accuracy: 0.0757\n",
            "Epoch 32/200\n",
            "135/135 [==============================] - 112s 829ms/step - loss: 3.0635 - accuracy: 0.0807 - val_loss: 3.1316 - val_accuracy: 0.0919\n",
            "Epoch 33/200\n",
            "135/135 [==============================] - 112s 831ms/step - loss: 3.0621 - accuracy: 0.0778 - val_loss: 3.1158 - val_accuracy: 0.0919\n",
            "Epoch 34/200\n",
            "135/135 [==============================] - 112s 830ms/step - loss: 3.0603 - accuracy: 0.0756 - val_loss: 3.1814 - val_accuracy: 0.0892\n",
            "Epoch 35/200\n",
            "135/135 [==============================] - 112s 832ms/step - loss: 3.0662 - accuracy: 0.0770 - val_loss: 3.1499 - val_accuracy: 0.0784\n",
            "Epoch 36/200\n",
            "135/135 [==============================] - 112s 832ms/step - loss: 3.0628 - accuracy: 0.0785 - val_loss: 3.1600 - val_accuracy: 0.0784\n",
            "Epoch 37/200\n",
            "135/135 [==============================] - 112s 831ms/step - loss: 3.0617 - accuracy: 0.0815 - val_loss: 3.1677 - val_accuracy: 0.0784\n",
            "Epoch 38/200\n",
            "135/135 [==============================] - 112s 826ms/step - loss: 3.0616 - accuracy: 0.0800 - val_loss: 3.1399 - val_accuracy: 0.0811\n",
            "Epoch 39/200\n",
            "135/135 [==============================] - 112s 831ms/step - loss: 3.0601 - accuracy: 0.0793 - val_loss: 3.1590 - val_accuracy: 0.0892\n",
            "Epoch 40/200\n",
            "135/135 [==============================] - 112s 828ms/step - loss: 3.0605 - accuracy: 0.0830 - val_loss: 3.1579 - val_accuracy: 0.0811\n",
            "Epoch 41/200\n",
            "135/135 [==============================] - 111s 824ms/step - loss: 3.0586 - accuracy: 0.0837 - val_loss: 3.1414 - val_accuracy: 0.0784\n",
            "Epoch 42/200\n",
            "135/135 [==============================] - 111s 823ms/step - loss: 3.0599 - accuracy: 0.0807 - val_loss: 3.1583 - val_accuracy: 0.0919\n",
            "Epoch 43/200\n",
            "135/135 [==============================] - 112s 827ms/step - loss: 3.0610 - accuracy: 0.0748 - val_loss: 3.1429 - val_accuracy: 0.0811\n",
            "Epoch 44/200\n",
            "135/135 [==============================] - 112s 828ms/step - loss: 3.0593 - accuracy: 0.0763 - val_loss: 3.1501 - val_accuracy: 0.0811\n",
            "Epoch 45/200\n",
            "135/135 [==============================] - 112s 832ms/step - loss: 3.0586 - accuracy: 0.0837 - val_loss: 3.1472 - val_accuracy: 0.0784\n",
            "Epoch 46/200\n",
            "135/135 [==============================] - 112s 831ms/step - loss: 3.0577 - accuracy: 0.0763 - val_loss: 3.1640 - val_accuracy: 0.0784\n",
            "Epoch 47/200\n",
            "135/135 [==============================] - 112s 832ms/step - loss: 3.0597 - accuracy: 0.0822 - val_loss: 3.1687 - val_accuracy: 0.0784\n",
            "Epoch 48/200\n",
            "135/135 [==============================] - 112s 828ms/step - loss: 3.0581 - accuracy: 0.0822 - val_loss: 3.1841 - val_accuracy: 0.0784\n",
            "Epoch 49/200\n",
            "135/135 [==============================] - 112s 832ms/step - loss: 3.0586 - accuracy: 0.0748 - val_loss: 3.1482 - val_accuracy: 0.0784\n",
            "Epoch 50/200\n",
            "135/135 [==============================] - 112s 830ms/step - loss: 3.0593 - accuracy: 0.0785 - val_loss: 3.1771 - val_accuracy: 0.0784\n",
            "Epoch 51/200\n",
            "135/135 [==============================] - 112s 827ms/step - loss: 3.0591 - accuracy: 0.0807 - val_loss: 3.1752 - val_accuracy: 0.0892\n",
            "Epoch 52/200\n",
            "135/135 [==============================] - 112s 827ms/step - loss: 3.0596 - accuracy: 0.0807 - val_loss: 3.1838 - val_accuracy: 0.0811\n",
            "Epoch 53/200\n",
            "135/135 [==============================] - 112s 828ms/step - loss: 3.0610 - accuracy: 0.0763 - val_loss: 3.1787 - val_accuracy: 0.0784\n",
            "Epoch 54/200\n",
            "135/135 [==============================] - 111s 825ms/step - loss: 3.0579 - accuracy: 0.0830 - val_loss: 3.2006 - val_accuracy: 0.0838\n",
            "Epoch 55/200\n",
            "135/135 [==============================] - 112s 830ms/step - loss: 3.0581 - accuracy: 0.0815 - val_loss: 3.1910 - val_accuracy: 0.0784\n",
            "Epoch 56/200\n",
            "135/135 [==============================] - 112s 829ms/step - loss: 3.0573 - accuracy: 0.0800 - val_loss: 3.1688 - val_accuracy: 0.0784\n",
            "Epoch 57/200\n",
            "135/135 [==============================] - 112s 832ms/step - loss: 3.0625 - accuracy: 0.0822 - val_loss: 3.1760 - val_accuracy: 0.0811\n",
            "Epoch 58/200\n",
            "135/135 [==============================] - 112s 832ms/step - loss: 3.0595 - accuracy: 0.0822 - val_loss: 3.1495 - val_accuracy: 0.0784\n",
            "Epoch 59/200\n",
            "135/135 [==============================] - 113s 835ms/step - loss: 3.0587 - accuracy: 0.0837 - val_loss: 3.1484 - val_accuracy: 0.0784\n",
            "Epoch 60/200\n",
            "135/135 [==============================] - 113s 833ms/step - loss: 3.0579 - accuracy: 0.0815 - val_loss: 3.1653 - val_accuracy: 0.0811\n",
            "Epoch 61/200\n",
            "135/135 [==============================] - 112s 831ms/step - loss: 3.0572 - accuracy: 0.0830 - val_loss: 3.1747 - val_accuracy: 0.0811\n",
            "Epoch 62/200\n",
            "135/135 [==============================] - 114s 842ms/step - loss: 3.0582 - accuracy: 0.0844 - val_loss: 3.1564 - val_accuracy: 0.0784\n",
            "Epoch 63/200\n",
            "135/135 [==============================] - 114s 842ms/step - loss: 3.0578 - accuracy: 0.0748 - val_loss: 3.1807 - val_accuracy: 0.0784\n",
            "Epoch 64/200\n",
            "135/135 [==============================] - 113s 839ms/step - loss: 3.0578 - accuracy: 0.0815 - val_loss: 3.1812 - val_accuracy: 0.0784\n",
            "Epoch 65/200\n",
            "135/135 [==============================] - 112s 832ms/step - loss: 3.0566 - accuracy: 0.0844 - val_loss: 3.2079 - val_accuracy: 0.0784\n",
            "Epoch 66/200\n",
            "135/135 [==============================] - 112s 831ms/step - loss: 3.0557 - accuracy: 0.0748 - val_loss: 3.1526 - val_accuracy: 0.0784\n",
            "Epoch 67/200\n",
            "135/135 [==============================] - 112s 830ms/step - loss: 3.0557 - accuracy: 0.0822 - val_loss: 3.2000 - val_accuracy: 0.0784\n",
            "Epoch 68/200\n",
            "135/135 [==============================] - 112s 828ms/step - loss: 3.0565 - accuracy: 0.0830 - val_loss: 3.1957 - val_accuracy: 0.0784\n",
            "Epoch 69/200\n",
            "135/135 [==============================] - 112s 827ms/step - loss: 3.0571 - accuracy: 0.0785 - val_loss: 3.1974 - val_accuracy: 0.0784\n",
            "Epoch 70/200\n",
            "135/135 [==============================] - 112s 827ms/step - loss: 3.0570 - accuracy: 0.0800 - val_loss: 3.1659 - val_accuracy: 0.0784\n",
            "Epoch 71/200\n",
            "135/135 [==============================] - 112s 834ms/step - loss: 3.0571 - accuracy: 0.0837 - val_loss: 3.1878 - val_accuracy: 0.0784\n",
            "Epoch 72/200\n",
            "135/135 [==============================] - 112s 827ms/step - loss: 3.0565 - accuracy: 0.0844 - val_loss: 3.1819 - val_accuracy: 0.0811\n",
            "Epoch 73/200\n",
            "135/135 [==============================] - 112s 832ms/step - loss: 3.0559 - accuracy: 0.0807 - val_loss: 3.2022 - val_accuracy: 0.0811\n",
            "Epoch 74/200\n",
            "135/135 [==============================] - 112s 831ms/step - loss: 3.0556 - accuracy: 0.0837 - val_loss: 3.1762 - val_accuracy: 0.0811\n",
            "Epoch 75/200\n",
            "135/135 [==============================] - 113s 837ms/step - loss: 3.0595 - accuracy: 0.0719 - val_loss: 3.1532 - val_accuracy: 0.0784\n",
            "Epoch 76/200\n",
            "135/135 [==============================] - 113s 834ms/step - loss: 3.0559 - accuracy: 0.0837 - val_loss: 3.1687 - val_accuracy: 0.0784\n",
            "Epoch 77/200\n",
            "135/135 [==============================] - 112s 832ms/step - loss: 3.0550 - accuracy: 0.0807 - val_loss: 3.2066 - val_accuracy: 0.0811\n",
            "Epoch 78/200\n",
            "135/135 [==============================] - 113s 834ms/step - loss: 3.0562 - accuracy: 0.0844 - val_loss: 3.1783 - val_accuracy: 0.0811\n",
            "Epoch 79/200\n",
            "135/135 [==============================] - 113s 836ms/step - loss: 3.0549 - accuracy: 0.0793 - val_loss: 3.1821 - val_accuracy: 0.0811\n",
            "Epoch 80/200\n",
            "135/135 [==============================] - 112s 831ms/step - loss: 3.0577 - accuracy: 0.0837 - val_loss: 3.1918 - val_accuracy: 0.0811\n",
            "Epoch 81/200\n",
            "135/135 [==============================] - 112s 831ms/step - loss: 3.0558 - accuracy: 0.0830 - val_loss: 3.2052 - val_accuracy: 0.0811\n",
            "Epoch 82/200\n",
            "135/135 [==============================] - 112s 830ms/step - loss: 3.0556 - accuracy: 0.0756 - val_loss: 3.2055 - val_accuracy: 0.0784\n",
            "Epoch 83/200\n",
            "135/135 [==============================] - 113s 839ms/step - loss: 3.0551 - accuracy: 0.0830 - val_loss: 3.1953 - val_accuracy: 0.0811\n",
            "Epoch 84/200\n",
            "135/135 [==============================] - 115s 854ms/step - loss: 3.0558 - accuracy: 0.0830 - val_loss: 3.1923 - val_accuracy: 0.0811\n",
            "Epoch 85/200\n",
            "135/135 [==============================] - 116s 860ms/step - loss: 3.0553 - accuracy: 0.0830 - val_loss: 3.1958 - val_accuracy: 0.0811\n",
            "Epoch 86/200\n",
            "135/135 [==============================] - 116s 859ms/step - loss: 3.0551 - accuracy: 0.0830 - val_loss: 3.1881 - val_accuracy: 0.0811\n",
            "Epoch 87/200\n",
            "135/135 [==============================] - 116s 863ms/step - loss: 3.0543 - accuracy: 0.0785 - val_loss: 3.2247 - val_accuracy: 0.0784\n",
            "Epoch 88/200\n",
            "135/135 [==============================] - 116s 861ms/step - loss: 3.0540 - accuracy: 0.0830 - val_loss: 3.2165 - val_accuracy: 0.0784\n",
            "Epoch 89/200\n",
            "135/135 [==============================] - 116s 861ms/step - loss: 3.0551 - accuracy: 0.0778 - val_loss: 3.2005 - val_accuracy: 0.0784\n",
            "Epoch 90/200\n",
            "135/135 [==============================] - 116s 860ms/step - loss: 3.0561 - accuracy: 0.0778 - val_loss: 3.1976 - val_accuracy: 0.0784\n",
            "Epoch 91/200\n",
            "135/135 [==============================] - 116s 860ms/step - loss: 3.0532 - accuracy: 0.0837 - val_loss: 3.2301 - val_accuracy: 0.0784\n",
            "Epoch 92/200\n",
            "135/135 [==============================] - 116s 859ms/step - loss: 3.0550 - accuracy: 0.0822 - val_loss: 3.2118 - val_accuracy: 0.0784\n",
            "Epoch 93/200\n",
            "135/135 [==============================] - 115s 852ms/step - loss: 3.0539 - accuracy: 0.0837 - val_loss: 3.2216 - val_accuracy: 0.0784\n",
            "Epoch 94/200\n",
            "135/135 [==============================] - 113s 835ms/step - loss: 3.0555 - accuracy: 0.0844 - val_loss: 3.1674 - val_accuracy: 0.0784\n",
            "Epoch 95/200\n",
            "135/135 [==============================] - 112s 830ms/step - loss: 3.0551 - accuracy: 0.0837 - val_loss: 3.2331 - val_accuracy: 0.0784\n",
            "Epoch 96/200\n",
            "135/135 [==============================] - 112s 833ms/step - loss: 3.0548 - accuracy: 0.0844 - val_loss: 3.1788 - val_accuracy: 0.0784\n",
            "Epoch 97/200\n",
            "135/135 [==============================] - 113s 834ms/step - loss: 3.0531 - accuracy: 0.0837 - val_loss: 3.2101 - val_accuracy: 0.0784\n",
            "Epoch 98/200\n",
            "135/135 [==============================] - 112s 832ms/step - loss: 3.0549 - accuracy: 0.0830 - val_loss: 3.2244 - val_accuracy: 0.0784\n",
            "Epoch 99/200\n",
            "135/135 [==============================] - 113s 838ms/step - loss: 3.0547 - accuracy: 0.0785 - val_loss: 3.2080 - val_accuracy: 0.0784\n",
            "Epoch 100/200\n",
            "135/135 [==============================] - 113s 833ms/step - loss: 3.0543 - accuracy: 0.0778 - val_loss: 3.1970 - val_accuracy: 0.0784\n",
            "Epoch 101/200\n",
            "135/135 [==============================] - 113s 835ms/step - loss: 3.0565 - accuracy: 0.0815 - val_loss: 3.1930 - val_accuracy: 0.0811\n",
            "Epoch 102/200\n",
            "135/135 [==============================] - 113s 835ms/step - loss: 3.0559 - accuracy: 0.0778 - val_loss: 3.2052 - val_accuracy: 0.0784\n",
            "Epoch 103/200\n",
            "135/135 [==============================] - 113s 838ms/step - loss: 3.0544 - accuracy: 0.0837 - val_loss: 3.2086 - val_accuracy: 0.0784\n",
            "Epoch 104/200\n",
            "135/135 [==============================] - 113s 840ms/step - loss: 3.0539 - accuracy: 0.0763 - val_loss: 3.2167 - val_accuracy: 0.0784\n",
            "Epoch 105/200\n",
            "135/135 [==============================] - 112s 833ms/step - loss: 3.0556 - accuracy: 0.0844 - val_loss: 3.2105 - val_accuracy: 0.0784\n",
            "Epoch 106/200\n",
            "135/135 [==============================] - 112s 831ms/step - loss: 3.0542 - accuracy: 0.0837 - val_loss: 3.2649 - val_accuracy: 0.0784\n",
            "Epoch 107/200\n",
            "135/135 [==============================] - 112s 830ms/step - loss: 3.0553 - accuracy: 0.0830 - val_loss: 3.1880 - val_accuracy: 0.0811\n",
            "Epoch 108/200\n",
            "135/135 [==============================] - 112s 829ms/step - loss: 3.0556 - accuracy: 0.0837 - val_loss: 3.2384 - val_accuracy: 0.0811\n",
            "Epoch 109/200\n",
            "135/135 [==============================] - 112s 830ms/step - loss: 3.0552 - accuracy: 0.0844 - val_loss: 3.1946 - val_accuracy: 0.0811\n",
            "Epoch 110/200\n",
            "135/135 [==============================] - 111s 825ms/step - loss: 3.0543 - accuracy: 0.0800 - val_loss: 3.1933 - val_accuracy: 0.0811\n",
            "Epoch 111/200\n",
            "135/135 [==============================] - 111s 826ms/step - loss: 3.0535 - accuracy: 0.0837 - val_loss: 3.1829 - val_accuracy: 0.0811\n",
            "Epoch 112/200\n",
            "135/135 [==============================] - 112s 831ms/step - loss: 3.0524 - accuracy: 0.0844 - val_loss: 3.2311 - val_accuracy: 0.0838\n",
            "Epoch 113/200\n",
            "135/135 [==============================] - 112s 830ms/step - loss: 3.0615 - accuracy: 0.0830 - val_loss: 3.2133 - val_accuracy: 0.0811\n",
            "Epoch 114/200\n",
            "135/135 [==============================] - 113s 837ms/step - loss: 3.0545 - accuracy: 0.0844 - val_loss: 3.2161 - val_accuracy: 0.0811\n",
            "Epoch 115/200\n",
            "135/135 [==============================] - 114s 842ms/step - loss: 3.0523 - accuracy: 0.0837 - val_loss: 3.2183 - val_accuracy: 0.0784\n",
            "Epoch 116/200\n",
            "135/135 [==============================] - 113s 836ms/step - loss: 3.0533 - accuracy: 0.0837 - val_loss: 3.2253 - val_accuracy: 0.0784\n",
            "Epoch 117/200\n",
            "135/135 [==============================] - 113s 836ms/step - loss: 3.0536 - accuracy: 0.0837 - val_loss: 3.2157 - val_accuracy: 0.0784\n",
            "Epoch 118/200\n",
            "135/135 [==============================] - 114s 841ms/step - loss: 3.0527 - accuracy: 0.0815 - val_loss: 3.2196 - val_accuracy: 0.0784\n",
            "Epoch 119/200\n",
            "135/135 [==============================] - 114s 846ms/step - loss: 3.0537 - accuracy: 0.0837 - val_loss: 3.2124 - val_accuracy: 0.0784\n",
            "Epoch 120/200\n",
            "135/135 [==============================] - 113s 836ms/step - loss: 3.0535 - accuracy: 0.0844 - val_loss: 3.2219 - val_accuracy: 0.0784\n",
            "Epoch 121/200\n",
            "135/135 [==============================] - 113s 838ms/step - loss: 3.0531 - accuracy: 0.0837 - val_loss: 3.2102 - val_accuracy: 0.0784\n",
            "Epoch 122/200\n",
            "135/135 [==============================] - 112s 832ms/step - loss: 3.0536 - accuracy: 0.0837 - val_loss: 3.2126 - val_accuracy: 0.0811\n",
            "Epoch 123/200\n",
            "135/135 [==============================] - 112s 833ms/step - loss: 3.0536 - accuracy: 0.0793 - val_loss: 3.1998 - val_accuracy: 0.0784\n",
            "Epoch 124/200\n",
            "135/135 [==============================] - 113s 835ms/step - loss: 3.0522 - accuracy: 0.0844 - val_loss: 3.2695 - val_accuracy: 0.0784\n",
            "Epoch 125/200\n",
            "135/135 [==============================] - 113s 837ms/step - loss: 3.0551 - accuracy: 0.0844 - val_loss: 3.2149 - val_accuracy: 0.0811\n",
            "Epoch 126/200\n",
            "135/135 [==============================] - 112s 830ms/step - loss: 3.0529 - accuracy: 0.0807 - val_loss: 3.2039 - val_accuracy: 0.0811\n",
            "Epoch 127/200\n",
            "135/135 [==============================] - 113s 836ms/step - loss: 3.0533 - accuracy: 0.0837 - val_loss: 3.1974 - val_accuracy: 0.0811\n",
            "Epoch 128/200\n",
            "135/135 [==============================] - 113s 835ms/step - loss: 3.0530 - accuracy: 0.0844 - val_loss: 3.2475 - val_accuracy: 0.0784\n",
            "Epoch 129/200\n",
            "135/135 [==============================] - 113s 836ms/step - loss: 3.0529 - accuracy: 0.0837 - val_loss: 3.2615 - val_accuracy: 0.0784\n",
            "Epoch 130/200\n",
            "135/135 [==============================] - 112s 832ms/step - loss: 3.0525 - accuracy: 0.0837 - val_loss: 3.2386 - val_accuracy: 0.0784\n",
            "Epoch 131/200\n",
            "135/135 [==============================] - 113s 839ms/step - loss: 3.0528 - accuracy: 0.0837 - val_loss: 3.2149 - val_accuracy: 0.0811\n",
            "Epoch 132/200\n",
            "135/135 [==============================] - 112s 832ms/step - loss: 3.0529 - accuracy: 0.0711 - val_loss: 3.2389 - val_accuracy: 0.0892\n",
            "Epoch 133/200\n",
            "135/135 [==============================] - 113s 840ms/step - loss: 3.0530 - accuracy: 0.0807 - val_loss: 3.2221 - val_accuracy: 0.0784\n",
            "Epoch 134/200\n",
            "135/135 [==============================] - 113s 839ms/step - loss: 3.0527 - accuracy: 0.0756 - val_loss: 3.2065 - val_accuracy: 0.0784\n",
            "Epoch 135/200\n",
            "135/135 [==============================] - 113s 841ms/step - loss: 3.0529 - accuracy: 0.0844 - val_loss: 3.2166 - val_accuracy: 0.0784\n",
            "Epoch 136/200\n",
            "135/135 [==============================] - 113s 838ms/step - loss: 3.0523 - accuracy: 0.0837 - val_loss: 3.2141 - val_accuracy: 0.0811\n",
            "Epoch 137/200\n",
            "135/135 [==============================] - 113s 837ms/step - loss: 3.0535 - accuracy: 0.0837 - val_loss: 3.2141 - val_accuracy: 0.0811\n",
            "Epoch 138/200\n",
            "135/135 [==============================] - 113s 836ms/step - loss: 3.0535 - accuracy: 0.0837 - val_loss: 3.2300 - val_accuracy: 0.0784\n",
            "Epoch 139/200\n",
            "135/135 [==============================] - 114s 842ms/step - loss: 3.0529 - accuracy: 0.0837 - val_loss: 3.2490 - val_accuracy: 0.0784\n",
            "Epoch 140/200\n",
            "135/135 [==============================] - 113s 838ms/step - loss: 3.0528 - accuracy: 0.0837 - val_loss: 3.2357 - val_accuracy: 0.0784\n",
            "Epoch 141/200\n",
            "135/135 [==============================] - 113s 837ms/step - loss: 3.0559 - accuracy: 0.0830 - val_loss: 3.2167 - val_accuracy: 0.0784\n",
            "Epoch 142/200\n",
            "135/135 [==============================] - 113s 838ms/step - loss: 3.0543 - accuracy: 0.0830 - val_loss: 3.2278 - val_accuracy: 0.0784\n",
            "Epoch 143/200\n",
            "135/135 [==============================] - 113s 839ms/step - loss: 3.0520 - accuracy: 0.0837 - val_loss: 3.2287 - val_accuracy: 0.0784\n",
            "Epoch 144/200\n",
            "135/135 [==============================] - 113s 838ms/step - loss: 3.0531 - accuracy: 0.0726 - val_loss: 3.2165 - val_accuracy: 0.0784\n",
            "Epoch 145/200\n",
            "135/135 [==============================] - 114s 847ms/step - loss: 3.0523 - accuracy: 0.0830 - val_loss: 3.2080 - val_accuracy: 0.0784\n",
            "Epoch 146/200\n",
            "135/135 [==============================] - 114s 842ms/step - loss: 3.0525 - accuracy: 0.0837 - val_loss: 3.2331 - val_accuracy: 0.0811\n",
            "Epoch 147/200\n",
            "135/135 [==============================] - 113s 840ms/step - loss: 3.0535 - accuracy: 0.0778 - val_loss: 3.1879 - val_accuracy: 0.0784\n",
            "Epoch 148/200\n",
            "135/135 [==============================] - 113s 836ms/step - loss: 3.0525 - accuracy: 0.0793 - val_loss: 3.2494 - val_accuracy: 0.0784\n",
            "Epoch 149/200\n",
            "135/135 [==============================] - 113s 836ms/step - loss: 3.0526 - accuracy: 0.0837 - val_loss: 3.2368 - val_accuracy: 0.0784\n",
            "Epoch 150/200\n",
            "135/135 [==============================] - 117s 864ms/step - loss: 3.0530 - accuracy: 0.0837 - val_loss: 3.1971 - val_accuracy: 0.0784\n",
            "Epoch 151/200\n",
            "135/135 [==============================] - 114s 846ms/step - loss: 3.0520 - accuracy: 0.0844 - val_loss: 3.2320 - val_accuracy: 0.0784\n",
            "Epoch 152/200\n",
            "135/135 [==============================] - 114s 847ms/step - loss: 3.0526 - accuracy: 0.0837 - val_loss: 3.2300 - val_accuracy: 0.0784\n",
            "Epoch 153/200\n",
            "135/135 [==============================] - 115s 853ms/step - loss: 3.0525 - accuracy: 0.0844 - val_loss: 3.2173 - val_accuracy: 0.0784\n",
            "Epoch 154/200\n",
            "135/135 [==============================] - 115s 848ms/step - loss: 3.0534 - accuracy: 0.0807 - val_loss: 3.2382 - val_accuracy: 0.0784\n",
            "Epoch 155/200\n",
            "135/135 [==============================] - 115s 850ms/step - loss: 3.0537 - accuracy: 0.0837 - val_loss: 3.2382 - val_accuracy: 0.0784\n",
            "Epoch 156/200\n",
            "135/135 [==============================] - 114s 848ms/step - loss: 3.0529 - accuracy: 0.0837 - val_loss: 3.2034 - val_accuracy: 0.0784\n",
            "Epoch 157/200\n",
            "135/135 [==============================] - 115s 854ms/step - loss: 3.0523 - accuracy: 0.0844 - val_loss: 3.2180 - val_accuracy: 0.0811\n",
            "Epoch 158/200\n",
            "135/135 [==============================] - 115s 852ms/step - loss: 3.0525 - accuracy: 0.0844 - val_loss: 3.2608 - val_accuracy: 0.0811\n",
            "Epoch 159/200\n",
            "135/135 [==============================] - 115s 855ms/step - loss: 3.0515 - accuracy: 0.0844 - val_loss: 3.1904 - val_accuracy: 0.0784\n",
            "Epoch 160/200\n",
            "135/135 [==============================] - 115s 853ms/step - loss: 3.0524 - accuracy: 0.0844 - val_loss: 3.2505 - val_accuracy: 0.0784\n",
            "Epoch 161/200\n",
            "135/135 [==============================] - 115s 852ms/step - loss: 3.0522 - accuracy: 0.0837 - val_loss: 3.2500 - val_accuracy: 0.0784\n",
            "Epoch 162/200\n",
            "135/135 [==============================] - 114s 847ms/step - loss: 3.0521 - accuracy: 0.0830 - val_loss: 3.2633 - val_accuracy: 0.0811\n",
            "Epoch 163/200\n",
            "135/135 [==============================] - 114s 847ms/step - loss: 3.0525 - accuracy: 0.0793 - val_loss: 3.2488 - val_accuracy: 0.0811\n",
            "Epoch 164/200\n",
            "135/135 [==============================] - 114s 844ms/step - loss: 3.0541 - accuracy: 0.0770 - val_loss: 3.2287 - val_accuracy: 0.0784\n",
            "Epoch 165/200\n",
            "135/135 [==============================] - 115s 851ms/step - loss: 3.0520 - accuracy: 0.0837 - val_loss: 3.2028 - val_accuracy: 0.0784\n",
            "Epoch 166/200\n",
            "135/135 [==============================] - 116s 863ms/step - loss: 3.0523 - accuracy: 0.0837 - val_loss: 3.2801 - val_accuracy: 0.0784\n",
            "Epoch 167/200\n",
            "135/135 [==============================] - 117s 865ms/step - loss: 3.0526 - accuracy: 0.0837 - val_loss: 3.2208 - val_accuracy: 0.0784\n",
            "Epoch 168/200\n",
            "135/135 [==============================] - 116s 856ms/step - loss: 3.0530 - accuracy: 0.0844 - val_loss: 3.2813 - val_accuracy: 0.0784\n",
            "Epoch 169/200\n",
            "135/135 [==============================] - 116s 858ms/step - loss: 3.0520 - accuracy: 0.0844 - val_loss: 3.2811 - val_accuracy: 0.0784\n",
            "Epoch 170/200\n",
            "135/135 [==============================] - 116s 858ms/step - loss: 3.0535 - accuracy: 0.0837 - val_loss: 3.2392 - val_accuracy: 0.0784\n",
            "Epoch 171/200\n",
            "135/135 [==============================] - 116s 858ms/step - loss: 3.0533 - accuracy: 0.0837 - val_loss: 3.2435 - val_accuracy: 0.0784\n",
            "Epoch 172/200\n",
            "135/135 [==============================] - 116s 857ms/step - loss: 3.0527 - accuracy: 0.0844 - val_loss: 3.2119 - val_accuracy: 0.0784\n",
            "Epoch 173/200\n",
            "135/135 [==============================] - 115s 850ms/step - loss: 3.0528 - accuracy: 0.0837 - val_loss: 3.2375 - val_accuracy: 0.0811\n",
            "Epoch 174/200\n",
            "135/135 [==============================] - 115s 851ms/step - loss: 3.0524 - accuracy: 0.0844 - val_loss: 3.2317 - val_accuracy: 0.0784\n",
            "Epoch 175/200\n",
            "135/135 [==============================] - 116s 860ms/step - loss: 3.0530 - accuracy: 0.0837 - val_loss: 3.2401 - val_accuracy: 0.0784\n",
            "Epoch 176/200\n",
            "135/135 [==============================] - 116s 858ms/step - loss: 3.0532 - accuracy: 0.0778 - val_loss: 3.2586 - val_accuracy: 0.0784\n",
            "Epoch 177/200\n",
            "135/135 [==============================] - 116s 858ms/step - loss: 3.0529 - accuracy: 0.0793 - val_loss: 3.2755 - val_accuracy: 0.0784\n",
            "Epoch 178/200\n",
            "135/135 [==============================] - 115s 854ms/step - loss: 3.0520 - accuracy: 0.0837 - val_loss: 3.2338 - val_accuracy: 0.0784\n",
            "Epoch 179/200\n",
            "135/135 [==============================] - 115s 852ms/step - loss: 3.0521 - accuracy: 0.0844 - val_loss: 3.2544 - val_accuracy: 0.0784\n",
            "Epoch 180/200\n",
            "135/135 [==============================] - 115s 849ms/step - loss: 3.0519 - accuracy: 0.0770 - val_loss: 3.2422 - val_accuracy: 0.0784\n",
            "Epoch 181/200\n",
            "135/135 [==============================] - 115s 853ms/step - loss: 3.0526 - accuracy: 0.0837 - val_loss: 3.2227 - val_accuracy: 0.0784\n",
            "Epoch 182/200\n",
            "135/135 [==============================] - 115s 850ms/step - loss: 3.0514 - accuracy: 0.0837 - val_loss: 3.2279 - val_accuracy: 0.0784\n",
            "Epoch 183/200\n",
            "135/135 [==============================] - 115s 849ms/step - loss: 3.0518 - accuracy: 0.0785 - val_loss: 3.2924 - val_accuracy: 0.0784\n",
            "Epoch 184/200\n",
            "135/135 [==============================] - 115s 850ms/step - loss: 3.0530 - accuracy: 0.0844 - val_loss: 3.2304 - val_accuracy: 0.0784\n",
            "Epoch 185/200\n",
            "135/135 [==============================] - 115s 854ms/step - loss: 3.0524 - accuracy: 0.0837 - val_loss: 3.2431 - val_accuracy: 0.0784\n",
            "Epoch 186/200\n",
            "135/135 [==============================] - 115s 850ms/step - loss: 3.0522 - accuracy: 0.0778 - val_loss: 3.2455 - val_accuracy: 0.0784\n",
            "Epoch 187/200\n",
            "135/135 [==============================] - 115s 853ms/step - loss: 3.0521 - accuracy: 0.0830 - val_loss: 3.2725 - val_accuracy: 0.0784\n",
            "Epoch 188/200\n",
            "135/135 [==============================] - 115s 851ms/step - loss: 3.0516 - accuracy: 0.0844 - val_loss: 3.2695 - val_accuracy: 0.0784\n",
            "Epoch 189/200\n",
            "135/135 [==============================] - 115s 851ms/step - loss: 3.0527 - accuracy: 0.0837 - val_loss: 3.2270 - val_accuracy: 0.0784\n",
            "Epoch 190/200\n",
            "135/135 [==============================] - 114s 847ms/step - loss: 3.0526 - accuracy: 0.0837 - val_loss: 3.2088 - val_accuracy: 0.0784\n",
            "Epoch 191/200\n",
            "135/135 [==============================] - 115s 850ms/step - loss: 3.0516 - accuracy: 0.0837 - val_loss: 3.2507 - val_accuracy: 0.0784\n",
            "Epoch 192/200\n",
            "135/135 [==============================] - 115s 849ms/step - loss: 3.0525 - accuracy: 0.0830 - val_loss: 3.2210 - val_accuracy: 0.0838\n",
            "Epoch 193/200\n",
            "135/135 [==============================] - 115s 850ms/step - loss: 3.0525 - accuracy: 0.0830 - val_loss: 3.2773 - val_accuracy: 0.0784\n",
            "Epoch 194/200\n",
            "135/135 [==============================] - 114s 847ms/step - loss: 3.0518 - accuracy: 0.0844 - val_loss: 3.2183 - val_accuracy: 0.0784\n",
            "Epoch 195/200\n",
            "135/135 [==============================] - 115s 851ms/step - loss: 3.0521 - accuracy: 0.0844 - val_loss: 3.2430 - val_accuracy: 0.0784\n",
            "Epoch 196/200\n",
            "135/135 [==============================] - 115s 851ms/step - loss: 3.0520 - accuracy: 0.0844 - val_loss: 3.2579 - val_accuracy: 0.0784\n",
            "Epoch 197/200\n",
            "135/135 [==============================] - 115s 854ms/step - loss: 3.0513 - accuracy: 0.0844 - val_loss: 3.2426 - val_accuracy: 0.0784\n",
            "Epoch 198/200\n",
            "135/135 [==============================] - 115s 852ms/step - loss: 3.0513 - accuracy: 0.0844 - val_loss: 3.2150 - val_accuracy: 0.0784\n",
            "Epoch 199/200\n",
            "135/135 [==============================] - 116s 856ms/step - loss: 3.0514 - accuracy: 0.0785 - val_loss: 3.2373 - val_accuracy: 0.0784\n",
            "Epoch 200/200\n",
            "135/135 [==============================] - 114s 847ms/step - loss: 3.0518 - accuracy: 0.0844 - val_loss: 3.2395 - val_accuracy: 0.0784\n"
          ]
        }
      ]
    },
    {
      "cell_type": "code",
      "source": [
        "from matplotlib import pyplot as plt\n",
        "plt.plot(history.history['accuracy'])\n",
        "plt.plot(history.history['val_accuracy'])\n",
        "plt.title('model accuracy')\n",
        "plt.ylabel('accuracy')\n",
        "plt.xlabel('epoch')\n",
        "plt.legend(['train', 'val'], loc='upper left')\n",
        "plt.show()"
      ],
      "metadata": {
        "colab": {
          "base_uri": "https://localhost:8080/",
          "height": 295
        },
        "id": "Mu34Ik95efov",
        "outputId": "506aa6db-b9c3-438f-d9a2-876a472fc7b5"
      },
      "execution_count": 13,
      "outputs": [
        {
          "output_type": "display_data",
          "data": {
            "image/png": "[encoded data removed]",
            "text/plain": [
              "<Figure size 432x288 with 1 Axes>"
            ]
          },
          "metadata": {
            "needs_background": "light"
          }
        }
      ]
    },
    {
      "cell_type": "code",
      "source": [
        "model.evaluate(X_train, Y_train)"
      ],
      "metadata": {
        "colab": {
          "base_uri": "https://localhost:8080/"
        },
        "id": "EVhUoi2t2qZx",
        "outputId": "580a1082-d011-43b1-900d-f659a7cd7aec"
      },
      "execution_count": 14,
      "outputs": [
        {
          "output_type": "stream",
          "name": "stdout",
          "text": [
            "43/43 [==============================] - 9s 195ms/step - loss: 3.0474 - accuracy: 0.0844\n"
          ]
        },
        {
          "output_type": "execute_result",
          "data": {
            "text/plain": [
              "[3.0473973751068115, 0.08444444090127945]"
            ]
          },
          "metadata": {},
          "execution_count": 14
        }
      ]
    }
  ]
}
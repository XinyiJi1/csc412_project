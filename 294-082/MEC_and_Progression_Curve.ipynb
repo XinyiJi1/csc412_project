{
 "cells": [
  {
   "cell_type": "markdown",
   "metadata": {
    "id": "Ulhg8vS3ccXL"
   },
   "source": [
    "# CS294-082 MEC and Progression Curve\n",
    "Referred to [Gerald's Chapter 9](https://piazza.com/redirect/s3?bucket=uploads&prefix=paste%2Fjeqdgp7ec8fv4%2Fbb8d09923f28f8df1326688d66f267909167aa329fce3b0f33616c54e562338e%2FInformation_View_on_Data_Science.pdf) for dataset MEC and progression curve algorithms.\n",
    "\n",
    "Github repo: https://github.com/XinyiJi1/csc412_project.git"
   ]
  },
  {
   "cell_type": "code",
   "execution_count": 18,
   "metadata": {
    "id": "vHmrXYo8cVz4"
   },
   "outputs": [],
   "source": [
    "import pandas as pd\n",
    "import numpy as np\n",
    "import seaborn as sns\n",
    "import matplotlib.pyplot as plt\n",
    "sns.set_style(\"darkgrid\")\n",
    "sns.set(rc = {'figure.figsize':(12,8)})"
   ]
  },
  {
   "cell_type": "markdown",
   "metadata": {
    "id": "4_oKCUtXhePn"
   },
   "source": [
    "## Utils for calculating the dataset MEC"
   ]
  },
  {
   "cell_type": "code",
   "execution_count": 19,
   "metadata": {
    "id": "9Zh2UrmAhfbp"
   },
   "outputs": [],
   "source": [
    "# input: dataframe contains labels and thresholds, sorted by descending thresholds\n",
    "# output: a dictionary with key as labels, value as sums of feature values\n",
    "# def: iterate through the labels, increment corresponding label's threshold by 1 whenever the label changes\n",
    "def generate_MEC_dict(df):\n",
    "    current_class = -1\n",
    "    # generate an empty dictionary from df, with default value as 0\n",
    "    mec_dict = dict.fromkeys(df['label'], 0)\n",
    "    # increment dict value by 1 whenever the class changes\n",
    "    for index, row in df.iterrows():\n",
    "        if(row['label'] != current_class):\n",
    "            mec_dict[row['label']] += 1\n",
    "            current_class = row['label']\n",
    "    return mec_dict\n",
    "\n",
    "# input: dataframe with labels, thresholds, and label occurrences\n",
    "# output: print out the dataset MEC\n",
    "# using the formula to calculate MEC: sum(1/pi * log_2(threshold+1)), for all i classes\n",
    "def calculate_MEC(df, feature_cols):\n",
    "    mec = 0\n",
    "    total = df['counts'].sum()\n",
    "    # print(total)\n",
    "    for index, row in df.iterrows():\n",
    "        percentage = row['counts'] / total\n",
    "        # print(percentage)\n",
    "        # DEPRECATED FUNCTION\n",
    "        # mec += (1 / percentage) * np.log2(row['threshold'] + 1)\n",
    "        # NEW FUNCTION FOR MEC  \n",
    "        mec +=  percentage * np.log2(row['threshold'] + 1) * feature_cols\n",
    "        # print(mec)\n",
    "    print('The total MEC of the dataset is: ', mec, 'bits')\n",
    "    return mec\n",
    "\n",
    "# input: dataframe with all the features, labels (labels in the last column)\n",
    "# output: print out the dataset MEC\n",
    "# dataframe manipulation, and calculate the MEC of the dataset\n",
    "def calc_dataset_MEC(df, feature_cols):\n",
    "    # extract the preceding feature columns\n",
    "    cols = df.columns[:feature_cols]\n",
    "    # added a new column of the sum of features for each instance\n",
    "    df['sums'] = df[cols].sum(axis=1)\n",
    "    # count the occurrence for each lable\n",
    "    df['counts'] = df.groupby(['label'])['label'].transform('count')\n",
    "    count_df = df[['label', 'counts']]\n",
    "    count_df = count_df.drop_duplicates(subset=['label']).reset_index(drop=True)\n",
    "    # generate the mec df with descending feature sums \n",
    "    # last three columns label, sum, count\n",
    "    # sort by descending feature value sums\n",
    "    mec_df = df.sort_values('sums', ascending=False).iloc[:, -3:].reset_index(drop=True)\n",
    "    # produce the threshold dict for calculating MEC\n",
    "    mec_dict = generate_MEC_dict(mec_df)\n",
    "    # convert the dict into dataframe\n",
    "    threshold_df = pd.DataFrame(mec_dict.items(), columns=['label', 'threshold'])\n",
    "    threshold_df = threshold_df.merge(count_df, on='label').sort_values(by=['counts'], ascending=False).reset_index(drop=True)\n",
    "    # print('sum', threshold_df['threshold'].sum())\n",
    "    # print(threshold_df)\n",
    "    return calculate_MEC(threshold_df, feature_cols)"
   ]
  },
  {
   "cell_type": "markdown",
   "metadata": {
    "id": "C9yEVT1rTfzt"
   },
   "source": [
    "## MEC of the transformer training set"
   ]
  },
  {
   "cell_type": "code",
   "execution_count": 28,
   "metadata": {
    "colab": {
     "base_uri": "https://localhost:8080/"
    },
    "id": "_vIb6sbPTrZv",
    "outputId": "2f1e3326-b7b8-4fc5-e9ab-dfc2beda543b"
   },
   "outputs": [
    {
     "name": "stdout",
     "output_type": "stream",
     "text": [
      "The total MEC of the dataset is:  3521.960090636637 bits\n"
     ]
    }
   ],
   "source": [
    "transformer_df = pd.read_csv('data_mlp.csv')\n",
    "training_transformer_df = transformer_df.loc[:2699, :].copy(deep=True)\n",
    "calc_dataset_MEC(training_transformer_df, 512);"
   ]
  },
  {
   "cell_type": "markdown",
   "metadata": {
    "id": "buOZOaO8oGW0"
   },
   "source": [
    "## MEC of the training set"
   ]
  },
  {
   "cell_type": "code",
   "execution_count": 29,
   "metadata": {
    "colab": {
     "base_uri": "https://localhost:8080/"
    },
    "id": "KWrihSz7opMr",
    "outputId": "67c54854-e7ee-4468-98d4-7d9530bb01c5"
   },
   "outputs": [
    {
     "name": "stdout",
     "output_type": "stream",
     "text": [
      "The total MEC of the dataset is:  1759.516263658391 bits\n"
     ]
    }
   ],
   "source": [
    "training_df = pd.read_csv(\"traning_data_mec.csv\")\n",
    "calc_dataset_MEC(training_df, 256);"
   ]
  },
  {
   "cell_type": "markdown",
   "metadata": {
    "id": "Oge2UXBehzHD"
   },
   "source": [
    "## Capacity Progression Curve"
   ]
  },
  {
   "cell_type": "code",
   "execution_count": 32,
   "metadata": {
    "colab": {
     "base_uri": "https://localhost:8080/",
     "height": 1000
    },
    "id": "Fz-qL-SzhxE5",
    "outputId": "5707a12b-5bec-42ac-e2d7-fdba7e3e4ca2"
   },
   "outputs": [
    {
     "name": "stdout",
     "output_type": "stream",
     "text": [
      "The total MEC of the dataset is:  756.0413613290593 bits\n",
      "The total MEC of the dataset is:  941.3466760273711 bits\n",
      "The total MEC of the dataset is:  1096.3761465393957 bits\n",
      "The total MEC of the dataset is:  1182.1380852630425 bits\n",
      "The total MEC of the dataset is:  1259.638487756374 bits\n",
      "The total MEC of the dataset is:  1320.9207686769241 bits\n",
      "The total MEC of the dataset is:  1385.290272818098 bits\n",
      "The total MEC of the dataset is:  1435.0598909666066 bits\n",
      "The total MEC of the dataset is:  1470.2921932266954 bits\n",
      "The total MEC of the dataset is:  1507.098080592632 bits\n",
      "The total MEC of the dataset is:  1545.7053935937104 bits\n",
      "The total MEC of the dataset is:  1578.1297217103124 bits\n",
      "The total MEC of the dataset is:  1598.6898279296547 bits\n",
      "The total MEC of the dataset is:  1627.524930614482 bits\n",
      "The total MEC of the dataset is:  1655.092364908368 bits\n",
      "The total MEC of the dataset is:  1681.533533052575 bits\n",
      "The total MEC of the dataset is:  1699.345704289819 bits\n",
      "The total MEC of the dataset is:  1719.953811971528 bits\n",
      "The total MEC of the dataset is:  1741.0210568939474 bits\n",
      "The total MEC of the dataset is:  1759.3998944873147 bits\n"
     ]
    },
    {
     "data": {
      "text/html": [
       "<div>\n",
       "<style scoped>\n",
       "    .dataframe tbody tr th:only-of-type {\n",
       "        vertical-align: middle;\n",
       "    }\n",
       "\n",
       "    .dataframe tbody tr th {\n",
       "        vertical-align: top;\n",
       "    }\n",
       "\n",
       "    .dataframe thead th {\n",
       "        text-align: right;\n",
       "    }\n",
       "</style>\n",
       "<table border=\"1\" class=\"dataframe\">\n",
       "  <thead>\n",
       "    <tr style=\"text-align: right;\">\n",
       "      <th></th>\n",
       "      <th>size</th>\n",
       "      <th>mec</th>\n",
       "    </tr>\n",
       "  </thead>\n",
       "  <tbody>\n",
       "    <tr>\n",
       "      <th>0</th>\n",
       "      <td>5.0</td>\n",
       "      <td>756.041361</td>\n",
       "    </tr>\n",
       "    <tr>\n",
       "      <th>1</th>\n",
       "      <td>10.0</td>\n",
       "      <td>941.346676</td>\n",
       "    </tr>\n",
       "    <tr>\n",
       "      <th>2</th>\n",
       "      <td>15.0</td>\n",
       "      <td>1096.376147</td>\n",
       "    </tr>\n",
       "    <tr>\n",
       "      <th>3</th>\n",
       "      <td>20.0</td>\n",
       "      <td>1182.138085</td>\n",
       "    </tr>\n",
       "    <tr>\n",
       "      <th>4</th>\n",
       "      <td>25.0</td>\n",
       "      <td>1259.638488</td>\n",
       "    </tr>\n",
       "    <tr>\n",
       "      <th>5</th>\n",
       "      <td>30.0</td>\n",
       "      <td>1320.920769</td>\n",
       "    </tr>\n",
       "    <tr>\n",
       "      <th>6</th>\n",
       "      <td>35.0</td>\n",
       "      <td>1385.290273</td>\n",
       "    </tr>\n",
       "    <tr>\n",
       "      <th>7</th>\n",
       "      <td>40.0</td>\n",
       "      <td>1435.059891</td>\n",
       "    </tr>\n",
       "    <tr>\n",
       "      <th>8</th>\n",
       "      <td>45.0</td>\n",
       "      <td>1470.292193</td>\n",
       "    </tr>\n",
       "    <tr>\n",
       "      <th>9</th>\n",
       "      <td>50.0</td>\n",
       "      <td>1507.098081</td>\n",
       "    </tr>\n",
       "    <tr>\n",
       "      <th>10</th>\n",
       "      <td>55.0</td>\n",
       "      <td>1545.705394</td>\n",
       "    </tr>\n",
       "    <tr>\n",
       "      <th>11</th>\n",
       "      <td>60.0</td>\n",
       "      <td>1578.129722</td>\n",
       "    </tr>\n",
       "    <tr>\n",
       "      <th>12</th>\n",
       "      <td>65.0</td>\n",
       "      <td>1598.689828</td>\n",
       "    </tr>\n",
       "    <tr>\n",
       "      <th>13</th>\n",
       "      <td>70.0</td>\n",
       "      <td>1627.524931</td>\n",
       "    </tr>\n",
       "    <tr>\n",
       "      <th>14</th>\n",
       "      <td>75.0</td>\n",
       "      <td>1655.092365</td>\n",
       "    </tr>\n",
       "    <tr>\n",
       "      <th>15</th>\n",
       "      <td>80.0</td>\n",
       "      <td>1681.533533</td>\n",
       "    </tr>\n",
       "    <tr>\n",
       "      <th>16</th>\n",
       "      <td>85.0</td>\n",
       "      <td>1699.345704</td>\n",
       "    </tr>\n",
       "    <tr>\n",
       "      <th>17</th>\n",
       "      <td>90.0</td>\n",
       "      <td>1719.953812</td>\n",
       "    </tr>\n",
       "    <tr>\n",
       "      <th>18</th>\n",
       "      <td>95.0</td>\n",
       "      <td>1741.021057</td>\n",
       "    </tr>\n",
       "    <tr>\n",
       "      <th>19</th>\n",
       "      <td>100.0</td>\n",
       "      <td>1759.399894</td>\n",
       "    </tr>\n",
       "  </tbody>\n",
       "</table>\n",
       "</div>"
      ],
      "text/plain": [
       "     size          mec\n",
       "0     5.0   756.041361\n",
       "1    10.0   941.346676\n",
       "2    15.0  1096.376147\n",
       "3    20.0  1182.138085\n",
       "4    25.0  1259.638488\n",
       "5    30.0  1320.920769\n",
       "6    35.0  1385.290273\n",
       "7    40.0  1435.059891\n",
       "8    45.0  1470.292193\n",
       "9    50.0  1507.098081\n",
       "10   55.0  1545.705394\n",
       "11   60.0  1578.129722\n",
       "12   65.0  1598.689828\n",
       "13   70.0  1627.524931\n",
       "14   75.0  1655.092365\n",
       "15   80.0  1681.533533\n",
       "16   85.0  1699.345704\n",
       "17   90.0  1719.953812\n",
       "18   95.0  1741.021057\n",
       "19  100.0  1759.399894"
      ]
     },
     "execution_count": 32,
     "metadata": {},
     "output_type": "execute_result"
    }
   ],
   "source": [
    "# input: dataframe with features and label (same as mec df)\n",
    "# output: dataframe containing mec values for different % of training data\n",
    "# algorithm 2: sample training data from 5 to 100 percent (step 5) and generate the df \n",
    "def progression_curve(df, feature_cols):\n",
    "    pcurve_df = pd.DataFrame(columns = ['size', 'mec'])\n",
    "    sizes = [i for i in np.arange(5,101,5)]\n",
    "#     sizes = [5,10,20,40,80,100]\n",
    "    # sample the dataset and calculate its MEC\n",
    "    for size in sizes:\n",
    "        current_df = df.sample(frac=size/100)\n",
    "        current_mec = calc_dataset_MEC(current_df, feature_cols)\n",
    "        pcurve_df = pcurve_df.append({'size' : size, 'mec' : current_mec},\n",
    "               ignore_index = True)\n",
    "    return pcurve_df\n",
    "# pcurve_df = progression_curve(balanced_df)\n",
    "# pcurve_df = progression_curve(data_with_label_df)\n",
    "pcurve_df = progression_curve(training_df, 256)\n",
    "pcurve_df"
   ]
  },
  {
   "cell_type": "code",
   "execution_count": 33,
   "metadata": {
    "colab": {
     "base_uri": "https://localhost:8080/",
     "height": 529
    },
    "id": "3htBXBqRh3GB",
    "outputId": "50dcced2-32b4-4958-d8f0-f221a8e05f1b"
   },
   "outputs": [
    {
     "data": {
      "image/png": "[encoded data removed]",
      "text/plain": [
       "<Figure size 864x576 with 1 Axes>"
      ]
     },
     "metadata": {},
     "output_type": "display_data"
    }
   ],
   "source": [
    "p = sns.lineplot(x='size', y='mec', data=pcurve_df, marker='o', markersize=8)\n",
    "p.set_xlabel(\"% of Training Data\", fontsize = 20)\n",
    "p.set_ylabel(\"MEC \", fontsize = 20)\n",
    "p.set_title(\"Expected Dataset MEC vs. % of Training Data\", size = 20);"
   ]
  }
 ],
 "metadata": {
  "colab": {
   "name": "MEC and Progression Curve.ipynb",
   "provenance": []
  },
  "kernelspec": {
   "display_name": "Python 3",
   "language": "python",
   "name": "python3"
  },
  "language_info": {
   "codemirror_mode": {
    "name": "ipython",
    "version": 3
   },
   "file_extension": ".py",
   "mimetype": "text/x-python",
   "name": "python",
   "nbconvert_exporter": "python",
   "pygments_lexer": "ipython3",
   "version": "3.7.3"
  }
 },
 "nbformat": 4,
 "nbformat_minor": 1
}

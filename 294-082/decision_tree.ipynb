{
  "nbformat": 4,
  "nbformat_minor": 0,
  "metadata": {
    "colab": {
      "name": "decision_tree.ipynb",
      "provenance": []
    },
    "kernelspec": {
      "name": "python3",
      "display_name": "Python 3"
    },
    "language_info": {
      "name": "python"
    }
  },
  "cells": [
    {
      "cell_type": "markdown",
      "source": [
        "# CSC294-082 Project (Decision tree part)\n",
        "#### Author: Xinyi Ji"
      ],
      "metadata": {
        "id": "Y5H7PP9lEaJk"
      }
    },
    {
      "cell_type": "code",
      "execution_count": 70,
      "metadata": {
        "id": "gWg2SuSg2cKP"
      },
      "outputs": [],
      "source": [
        "# multi-class classification with Keras\n",
        "import pandas\n",
        "import numpy as np\n",
        "from tensorflow import keras\n",
        "from keras.models import Sequential\n",
        "from keras.layers import Dense\n",
        "from keras.wrappers.scikit_learn import KerasClassifier\n",
        "from keras.utils import np_utils\n",
        "from sklearn.preprocessing import LabelEncoder\n",
        "from sklearn.pipeline import Pipeline\n",
        "from keras.utils.vis_utils import plot_model\n",
        "from sklearn.tree import DecisionTreeClassifier # Import Decision Tree Classifier\n",
        "from sklearn.model_selection import train_test_split # Import train_test_split function\n",
        "from sklearn import metrics #Import scikit-learn metrics module for accuracy calculation"
      ]
    },
    {
      "cell_type": "code",
      "source": [
        "# load dataset\n",
        "dataframe = pandas.read_csv(\"data_mlp.csv\")\n",
        "dataset = dataframe.values\n",
        "dataset.shape"
      ],
      "metadata": {
        "colab": {
          "base_uri": "https://localhost:8080/"
        },
        "id": "9JexKotM2kkf",
        "outputId": "1ce3a91f-2b83-48bc-da12-8b8307ac9a8f"
      },
      "execution_count": 71,
      "outputs": [
        {
          "output_type": "execute_result",
          "data": {
            "text/plain": [
              "(3370, 513)"
            ]
          },
          "metadata": {},
          "execution_count": 71
        }
      ]
    },
    {
      "cell_type": "code",
      "source": [
        "X = dataset[:,0:512].astype(np.float64)\n",
        "#X = np.around(X, decimals=1)\n",
        "Y = dataset[:,512]\n",
        "#Y = np.random.randint(2, size=3370)"
      ],
      "metadata": {
        "id": "1R6I3jr-2mw-"
      },
      "execution_count": 72,
      "outputs": []
    },
    {
      "cell_type": "code",
      "source": [
        "X_train = X[:2700]\n",
        "Y_train = Y[:2700]"
      ],
      "metadata": {
        "id": "ShuRzZ-q2qld"
      },
      "execution_count": 73,
      "outputs": []
    },
    {
      "cell_type": "code",
      "source": [
        "X_val = X[2700: 2700+370]\n",
        "Y_val = Y[2700: 2700+370]"
      ],
      "metadata": {
        "id": "p89BSeME2sou"
      },
      "execution_count": 74,
      "outputs": []
    },
    {
      "cell_type": "code",
      "source": [
        "X_test = X[2700+370:]\n",
        "Y_test = Y[2700+370:]"
      ],
      "metadata": {
        "id": "yl55huyM2u7v"
      },
      "execution_count": 75,
      "outputs": []
    },
    {
      "cell_type": "code",
      "source": [
        "# Create Decision Tree classifer object\n",
        "clf = DecisionTreeClassifier(criterion=\"entropy\", max_depth=34)\n",
        "# Train Decision Tree Classifer\n",
        "clf = clf.fit(X_train,Y_train)"
      ],
      "metadata": {
        "id": "TmDGMmS556AI"
      },
      "execution_count": 33,
      "outputs": []
    },
    {
      "cell_type": "code",
      "source": [
        "# Use the forest's predict method on the test data\n",
        "predictions = clf.predict(X_train)\n",
        "# Calculate the absolute errors\n",
        "errors = np.sum(list(predictions != Y_train))\n",
        "# Print out the mean absolute error (mae)\n",
        "print('Error:', errors)\n",
        "# Calculate mean absolute percentage error (MAPE)\n",
        "mape = 100 * (errors / len(Y_train))\n",
        "# Calculate and display accuracy\n",
        "accuracy = 100 - np.mean(mape)\n",
        "print('Accuracy:', round(accuracy, 2), '%.')"
      ],
      "metadata": {
        "colab": {
          "base_uri": "https://localhost:8080/"
        },
        "id": "bfuq-V-4375X",
        "outputId": "6ac6fb0d-99c1-42d3-f61b-da0a9e5df556"
      },
      "execution_count": 34,
      "outputs": [
        {
          "output_type": "stream",
          "name": "stdout",
          "text": [
            "Error: 0\n",
            "Accuracy: 100.0 %.\n"
          ]
        }
      ]
    },
    {
      "cell_type": "code",
      "source": [
        "# Use the forest's predict method on the test data\n",
        "predictions = clf.predict(X_val)\n",
        "# Calculate the absolute errors\n",
        "errors = np.sum(list(predictions != Y_val))\n",
        "# Print out the mean absolute error (mae)\n",
        "print('Error:', errors)\n",
        "# Calculate mean absolute percentage error (MAPE)\n",
        "mape = 100 * (errors / len(Y_val))\n",
        "# Calculate and display accuracy\n",
        "accuracy = 100 - np.mean(mape)\n",
        "print('Accuracy:', round(accuracy, 2), '%.')"
      ],
      "metadata": {
        "colab": {
          "base_uri": "https://localhost:8080/"
        },
        "id": "3xU9xWsj8wBA",
        "outputId": "295a0e97-41b1-4da4-f6aa-9bd929aace96"
      },
      "execution_count": 35,
      "outputs": [
        {
          "output_type": "stream",
          "name": "stdout",
          "text": [
            "Error: 357\n",
            "Accuracy: 3.51 %.\n"
          ]
        }
      ]
    },
    {
      "cell_type": "code",
      "source": [
        "train_accuracy = []\n",
        "val_accuracy = []\n",
        "for depth in range(34, 0, -1):\n",
        "  print('depth == ', depth)\n",
        "  # Create Decision Tree classifer object\n",
        "  clf = DecisionTreeClassifier(criterion=\"entropy\", max_depth=depth)\n",
        "  # Train Decision Tree Classifer\n",
        "  clf = clf.fit(X_train,Y_train)\n",
        "\n",
        "  # Use the forest's predict method on the test data\n",
        "  predictions = clf.predict(X_train)\n",
        "  # Calculate the absolute errors\n",
        "  errors = np.sum(list(predictions != Y_train))\n",
        "  # Print out the mean absolute error (mae)\n",
        "  print('Training Error:', errors)\n",
        "  # Calculate mean absolute percentage error (MAPE)\n",
        "  mape = 100 * (errors / len(Y_train))\n",
        "  # Calculate and display accuracy\n",
        "  accuracy = 100 - np.mean(mape)\n",
        "  print(' Training Accuracy:', round(accuracy, 2), '%.')\n",
        "  train_accuracy.append(accuracy)\n",
        "\n",
        "  # Use the forest's predict method on the test data\n",
        "  predictions = clf.predict(X_val)\n",
        "  # Calculate the absolute errors\n",
        "  errors = np.sum(list(predictions != Y_val))\n",
        "  # Print out the mean absolute error (mae)\n",
        "  print('Error:', errors)\n",
        "  # Calculate mean absolute percentage error (MAPE)\n",
        "  mape = 100 * (errors / len(Y_val))\n",
        "  # Calculate and display accuracy\n",
        "  accuracy = 100 - np.mean(mape)\n",
        "  print('Validation Accuracy:', round(accuracy, 2), '%.')\n",
        "  val_accuracy.append(accuracy)"
      ],
      "metadata": {
        "colab": {
          "base_uri": "https://localhost:8080/"
        },
        "id": "DouZqj7Y9xNH",
        "outputId": "36ab0d88-d064-49dd-eac3-a4bea0a4fae3"
      },
      "execution_count": 37,
      "outputs": [
        {
          "output_type": "stream",
          "name": "stdout",
          "text": [
            "depth ==  34\n",
            "Training Error: 0\n",
            " Training Accuracy: 100.0 %.\n",
            "Error: 352\n",
            "Validation Accuracy: 4.86 %.\n",
            "depth ==  33\n",
            "Training Error: 2\n",
            " Training Accuracy: 99.93 %.\n",
            "Error: 355\n",
            "Validation Accuracy: 4.05 %.\n",
            "depth ==  32\n",
            "Training Error: 4\n",
            " Training Accuracy: 99.85 %.\n",
            "Error: 351\n",
            "Validation Accuracy: 5.14 %.\n",
            "depth ==  31\n",
            "Training Error: 7\n",
            " Training Accuracy: 99.74 %.\n",
            "Error: 349\n",
            "Validation Accuracy: 5.68 %.\n",
            "depth ==  30\n",
            "Training Error: 11\n",
            " Training Accuracy: 99.59 %.\n",
            "Error: 354\n",
            "Validation Accuracy: 4.32 %.\n",
            "depth ==  29\n",
            "Training Error: 27\n",
            " Training Accuracy: 99.0 %.\n",
            "Error: 360\n",
            "Validation Accuracy: 2.7 %.\n",
            "depth ==  28\n",
            "Training Error: 48\n",
            " Training Accuracy: 98.22 %.\n",
            "Error: 354\n",
            "Validation Accuracy: 4.32 %.\n",
            "depth ==  27\n",
            "Training Error: 69\n",
            " Training Accuracy: 97.44 %.\n",
            "Error: 348\n",
            "Validation Accuracy: 5.95 %.\n",
            "depth ==  26\n",
            "Training Error: 99\n",
            " Training Accuracy: 96.33 %.\n",
            "Error: 350\n",
            "Validation Accuracy: 5.41 %.\n",
            "depth ==  25\n",
            "Training Error: 133\n",
            " Training Accuracy: 95.07 %.\n",
            "Error: 358\n",
            "Validation Accuracy: 3.24 %.\n",
            "depth ==  24\n",
            "Training Error: 187\n",
            " Training Accuracy: 93.07 %.\n",
            "Error: 350\n",
            "Validation Accuracy: 5.41 %.\n",
            "depth ==  23\n",
            "Training Error: 263\n",
            " Training Accuracy: 90.26 %.\n",
            "Error: 353\n",
            "Validation Accuracy: 4.59 %.\n",
            "depth ==  22\n",
            "Training Error: 359\n",
            " Training Accuracy: 86.7 %.\n",
            "Error: 357\n",
            "Validation Accuracy: 3.51 %.\n",
            "depth ==  21\n",
            "Training Error: 479\n",
            " Training Accuracy: 82.26 %.\n",
            "Error: 357\n",
            "Validation Accuracy: 3.51 %.\n",
            "depth ==  20\n",
            "Training Error: 629\n",
            " Training Accuracy: 76.7 %.\n",
            "Error: 358\n",
            "Validation Accuracy: 3.24 %.\n",
            "depth ==  19\n",
            "Training Error: 783\n",
            " Training Accuracy: 71.0 %.\n",
            "Error: 358\n",
            "Validation Accuracy: 3.24 %.\n",
            "depth ==  18\n",
            "Training Error: 932\n",
            " Training Accuracy: 65.48 %.\n",
            "Error: 359\n",
            "Validation Accuracy: 2.97 %.\n",
            "depth ==  17\n",
            "Training Error: 1091\n",
            " Training Accuracy: 59.59 %.\n",
            "Error: 355\n",
            "Validation Accuracy: 4.05 %.\n",
            "depth ==  16\n",
            "Training Error: 1248\n",
            " Training Accuracy: 53.78 %.\n",
            "Error: 349\n",
            "Validation Accuracy: 5.68 %.\n",
            "depth ==  15\n",
            "Training Error: 1386\n",
            " Training Accuracy: 48.67 %.\n",
            "Error: 349\n",
            "Validation Accuracy: 5.68 %.\n",
            "depth ==  14\n",
            "Training Error: 1514\n",
            " Training Accuracy: 43.93 %.\n",
            "Error: 352\n",
            "Validation Accuracy: 4.86 %.\n",
            "depth ==  13\n",
            "Training Error: 1640\n",
            " Training Accuracy: 39.26 %.\n",
            "Error: 339\n",
            "Validation Accuracy: 8.38 %.\n",
            "depth ==  12\n",
            "Training Error: 1764\n",
            " Training Accuracy: 34.67 %.\n",
            "Error: 345\n",
            "Validation Accuracy: 6.76 %.\n",
            "depth ==  11\n",
            "Training Error: 1891\n",
            " Training Accuracy: 29.96 %.\n",
            "Error: 346\n",
            "Validation Accuracy: 6.49 %.\n",
            "depth ==  10\n",
            "Training Error: 2003\n",
            " Training Accuracy: 25.81 %.\n",
            "Error: 338\n",
            "Validation Accuracy: 8.65 %.\n",
            "depth ==  9\n",
            "Training Error: 2092\n",
            " Training Accuracy: 22.52 %.\n",
            "Error: 340\n",
            "Validation Accuracy: 8.11 %.\n",
            "depth ==  8\n",
            "Training Error: 2184\n",
            " Training Accuracy: 19.11 %.\n",
            "Error: 337\n",
            "Validation Accuracy: 8.92 %.\n",
            "depth ==  7\n",
            "Training Error: 2274\n",
            " Training Accuracy: 15.78 %.\n",
            "Error: 337\n",
            "Validation Accuracy: 8.92 %.\n",
            "depth ==  6\n",
            "Training Error: 2349\n",
            " Training Accuracy: 13.0 %.\n",
            "Error: 328\n",
            "Validation Accuracy: 11.35 %.\n",
            "depth ==  5\n",
            "Training Error: 2423\n",
            " Training Accuracy: 10.26 %.\n",
            "Error: 340\n",
            "Validation Accuracy: 8.11 %.\n",
            "depth ==  4\n",
            "Training Error: 2455\n",
            " Training Accuracy: 9.07 %.\n",
            "Error: 341\n",
            "Validation Accuracy: 7.84 %.\n",
            "depth ==  3\n",
            "Training Error: 2476\n",
            " Training Accuracy: 8.3 %.\n",
            "Error: 341\n",
            "Validation Accuracy: 7.84 %.\n",
            "depth ==  2\n",
            "Training Error: 2493\n",
            " Training Accuracy: 7.67 %.\n",
            "Error: 341\n",
            "Validation Accuracy: 7.84 %.\n",
            "depth ==  1\n",
            "Training Error: 2496\n",
            " Training Accuracy: 7.56 %.\n",
            "Error: 341\n",
            "Validation Accuracy: 7.84 %.\n"
          ]
        }
      ]
    },
    {
      "cell_type": "code",
      "source": [
        "train_accuracy.reverse()\n"
      ],
      "metadata": {
        "id": "EBsIxxMYGd7X"
      },
      "execution_count": 52,
      "outputs": []
    },
    {
      "cell_type": "code",
      "source": [
        "val_accuracy.reverse()"
      ],
      "metadata": {
        "id": "OqGyiFVXGvfH"
      },
      "execution_count": 54,
      "outputs": []
    },
    {
      "cell_type": "code",
      "source": [
        "x_list = list(range(1, 35))\n",
        "x_list.reverse()"
      ],
      "metadata": {
        "id": "_AFsyDJPIi0I"
      },
      "execution_count": 66,
      "outputs": []
    },
    {
      "cell_type": "code",
      "source": [
        "from matplotlib import pyplot as plt\n",
        "\n",
        "plt.plot(x_list, train_accuracy, label='training accuracy')\n",
        "plt.plot(x_list, val_accuracy, label='validation accuracy')\n",
        "ax = plt.gca()\n",
        "ax.invert_xaxis()\n",
        "plt.xlabel(\"Decision tree depth(Quantization)\")\n",
        "plt.ylabel(\"Accuracy\")\n",
        "plt.title(\"Accuracy/ capacity curve\")\n",
        "plt.legend()"
      ],
      "metadata": {
        "colab": {
          "base_uri": "https://localhost:8080/",
          "height": 313
        },
        "id": "fLVJg2NhDuQS",
        "outputId": "f246ca35-47c4-4035-9431-96e182740ad6"
      },
      "execution_count": 69,
      "outputs": [
        {
          "output_type": "execute_result",
          "data": {
            "text/plain": [
              "<matplotlib.legend.Legend at 0x7fd43fe2da10>"
            ]
          },
          "metadata": {},
          "execution_count": 69
        },
        {
          "output_type": "display_data",
          "data": {
            "image/png": "[encoded data removed]",
            "text/plain": [
              "<Figure size 432x288 with 1 Axes>"
            ]
          },
          "metadata": {
            "needs_background": "light"
          }
        }
      ]
    },
    {
      "cell_type": "markdown",
      "source": [
        "The difference between training accuracy and validation accurcy is the smallest when the depth of decision tree is 6.\n",
        "depth ==  6\n",
        "Training Error: 2349\n",
        " Training Accuracy: 13.0 %.\n",
        "Error: 328\n",
        "Validation Accuracy: 11.35 %"
      ],
      "metadata": {
        "id": "0kNf9wmbF3zw"
      }
    },
    {
      "cell_type": "code",
      "source": [
        "# Create Decision Tree classifer object\n",
        "clf = DecisionTreeClassifier(criterion=\"entropy\", max_depth=6)\n",
        "# Train Decision Tree Classifer\n",
        "clf = clf.fit(X_train,Y_train)"
      ],
      "metadata": {
        "id": "kqKKTDyiJ38p"
      },
      "execution_count": 76,
      "outputs": []
    },
    {
      "cell_type": "code",
      "source": [
        "# Use the forest's predict method on the test data\n",
        "predictions = clf.predict(X_test)\n",
        "# Calculate the absolute errors\n",
        "errors = np.sum(list(predictions != Y_test))\n",
        "# Print out the mean absolute error (mae)\n",
        "print('Error:', errors)\n",
        "# Calculate mean absolute percentage error (MAPE)\n",
        "mape = 100 * (errors / len(Y_test))\n",
        "# Calculate and display accuracy\n",
        "accuracy = 100 - np.mean(mape)\n",
        "print('Accuracy:', round(accuracy, 2), '%.')"
      ],
      "metadata": {
        "colab": {
          "base_uri": "https://localhost:8080/"
        },
        "id": "V7BUydqPJ8G4",
        "outputId": "ac0f55d4-dab5-4f91-93e8-3d9a0ea5b524"
      },
      "execution_count": 77,
      "outputs": [
        {
          "output_type": "stream",
          "name": "stdout",
          "text": [
            "Error: 272\n",
            "Accuracy: 9.33 %.\n"
          ]
        }
      ]
    },
    {
      "cell_type": "markdown",
      "source": [
        "Calculate Generalization"
      ],
      "metadata": {
        "id": "KfG4K57u31u1"
      }
    },
    {
      "cell_type": "code",
      "source": [
        "predictions = clf.predict(X_train)"
      ],
      "metadata": {
        "id": "N8ydxtMW2twX"
      },
      "execution_count": 78,
      "outputs": []
    },
    {
      "cell_type": "code",
      "source": [
        "predictions"
      ],
      "metadata": {
        "colab": {
          "base_uri": "https://localhost:8080/"
        },
        "id": "LT5kW2CT2y7t",
        "outputId": "38bd48d4-6886-4b89-b14c-415571b87e6a"
      },
      "execution_count": 79,
      "outputs": [
        {
          "output_type": "execute_result",
          "data": {
            "text/plain": [
              "array([77., 77., 95., ..., 77., 77., 77.])"
            ]
          },
          "metadata": {},
          "execution_count": 79
        }
      ]
    },
    {
      "cell_type": "code",
      "source": [
        "classes = list(set(Y_train))\n",
        "len(classes)"
      ],
      "metadata": {
        "colab": {
          "base_uri": "https://localhost:8080/"
        },
        "id": "fc0KcUAM22OW",
        "outputId": "0c778bdd-21b8-42b7-ce56-98cc1a75853e"
      },
      "execution_count": 81,
      "outputs": [
        {
          "output_type": "execute_result",
          "data": {
            "text/plain": [
              "23"
            ]
          },
          "metadata": {},
          "execution_count": 81
        }
      ]
    },
    {
      "cell_type": "code",
      "source": [
        "len(list(Y_train))"
      ],
      "metadata": {
        "colab": {
          "base_uri": "https://localhost:8080/"
        },
        "id": "5VN_img64LKm",
        "outputId": "e06287f6-5eef-4fe7-9e5c-11f958015896"
      },
      "execution_count": 84,
      "outputs": [
        {
          "output_type": "execute_result",
          "data": {
            "text/plain": [
              "2700"
            ]
          },
          "metadata": {},
          "execution_count": 84
        }
      ]
    },
    {
      "cell_type": "code",
      "source": [
        "from collections import Counter\n",
        "c=Counter(list(Y_train))\n",
        "c.keys()"
      ],
      "metadata": {
        "colab": {
          "base_uri": "https://localhost:8080/"
        },
        "id": "wsgtl7zq2_sW",
        "outputId": "e729d2ea-0d0e-4ddd-9da9-d8a571215259"
      },
      "execution_count": 83,
      "outputs": [
        {
          "output_type": "execute_result",
          "data": {
            "text/plain": [
              "dict_keys([74.0, 65.0, 88.0, 81.0, 46.0, 60.0, 89.0, 56.0, 82.0, 83.0, 77.0, 75.0, 73.0, 78.0, 95.0, 80.0, 94.0, 51.0, 58.0, 41.0, 37.0, 76.0, 43.0])"
            ]
          },
          "metadata": {},
          "execution_count": 83
        }
      ]
    },
    {
      "cell_type": "code",
      "source": [
        "class_prob_dict = {}\n",
        "for key in c.keys():\n",
        "  class_prob_dict[key] = c[key] / len(list(Y_train))\n",
        "class_prob_dict"
      ],
      "metadata": {
        "colab": {
          "base_uri": "https://localhost:8080/"
        },
        "id": "9-El6_fw39Qr",
        "outputId": "78cda3c6-acf0-4953-fdf2-9065640c48be"
      },
      "execution_count": 85,
      "outputs": [
        {
          "output_type": "execute_result",
          "data": {
            "text/plain": [
              "{37.0: 0.03222222222222222,\n",
              " 41.0: 0.03851851851851852,\n",
              " 43.0: 0.03851851851851852,\n",
              " 46.0: 0.06111111111111111,\n",
              " 51.0: 0.07407407407407407,\n",
              " 56.0: 0.034074074074074076,\n",
              " 58.0: 0.0337037037037037,\n",
              " 60.0: 0.0337037037037037,\n",
              " 65.0: 0.03,\n",
              " 73.0: 0.05444444444444444,\n",
              " 74.0: 0.04962962962962963,\n",
              " 75.0: 0.035925925925925924,\n",
              " 76.0: 0.03148148148148148,\n",
              " 77.0: 0.06888888888888889,\n",
              " 78.0: 0.03962962962962963,\n",
              " 80.0: 0.03,\n",
              " 81.0: 0.05037037037037037,\n",
              " 82.0: 0.0362962962962963,\n",
              " 83.0: 0.03888888888888889,\n",
              " 88.0: 0.046296296296296294,\n",
              " 89.0: 0.056666666666666664,\n",
              " 94.0: 0.04925925925925926,\n",
              " 95.0: 0.0362962962962963}"
            ]
          },
          "metadata": {},
          "execution_count": 85
        }
      ]
    },
    {
      "cell_type": "code",
      "source": [
        "class_correct_dict = {}\n",
        "for key in c.keys():\n",
        "  class_correct_dict[key] = 0"
      ],
      "metadata": {
        "id": "YLMC9ThG4SL9"
      },
      "execution_count": 87,
      "outputs": []
    },
    {
      "cell_type": "code",
      "source": [
        "i = 0\n",
        "for element in list(predictions):\n",
        "  real_class = list(Y_train)[i]\n",
        "  if real_class == element:\n",
        "    class_correct_dict[real_class] += 1\n",
        "  i += 1"
      ],
      "metadata": {
        "id": "Qjp86X4I5Zdf"
      },
      "execution_count": 88,
      "outputs": []
    },
    {
      "cell_type": "code",
      "source": [
        "import math\n",
        "res = 0\n",
        "for key in c.keys():\n",
        "  cur_prob = class_prob_dict[key]\n",
        "  cur_correct =  class_correct_dict[key]\n",
        "  cur = cur_prob * math.log2(cur_prob) * cur_correct\n",
        "  res -= cur"
      ],
      "metadata": {
        "id": "zswKgLJt55UW"
      },
      "execution_count": 92,
      "outputs": []
    },
    {
      "cell_type": "code",
      "source": [
        "res"
      ],
      "metadata": {
        "colab": {
          "base_uri": "https://localhost:8080/"
        },
        "id": "Lm1vc-206vfO",
        "outputId": "d3507bf4-0c00-4a30-b6a0-f7cdbc3eaf6b"
      },
      "execution_count": 93,
      "outputs": [
        {
          "output_type": "execute_result",
          "data": {
            "text/plain": [
              "83.17961285634242"
            ]
          },
          "metadata": {},
          "execution_count": 93
        }
      ]
    },
    {
      "cell_type": "code",
      "source": [
        "mec = 6\n",
        "mec"
      ],
      "metadata": {
        "colab": {
          "base_uri": "https://localhost:8080/"
        },
        "id": "t8kTLvk364CH",
        "outputId": "910a4e67-b286-422d-950f-93d45c49e415"
      },
      "execution_count": 99,
      "outputs": [
        {
          "output_type": "execute_result",
          "data": {
            "text/plain": [
              "6"
            ]
          },
          "metadata": {},
          "execution_count": 99
        }
      ]
    },
    {
      "cell_type": "code",
      "source": [
        "criterion = 23/22\n",
        "criterion"
      ],
      "metadata": {
        "colab": {
          "base_uri": "https://localhost:8080/"
        },
        "id": "6CIrRxZn69nH",
        "outputId": "b4319ec5-5c00-4cfd-a933-ebe49e5e605f"
      },
      "execution_count": 100,
      "outputs": [
        {
          "output_type": "execute_result",
          "data": {
            "text/plain": [
              "1.0454545454545454"
            ]
          },
          "metadata": {},
          "execution_count": 100
        }
      ]
    },
    {
      "cell_type": "code",
      "source": [
        "g = res / mec\n",
        "g"
      ],
      "metadata": {
        "colab": {
          "base_uri": "https://localhost:8080/"
        },
        "id": "-9s516Dd7QNe",
        "outputId": "d75e40c3-5546-4c10-9f57-5ad5becc0109"
      },
      "execution_count": 101,
      "outputs": [
        {
          "output_type": "execute_result",
          "data": {
            "text/plain": [
              "13.863268809390403"
            ]
          },
          "metadata": {},
          "execution_count": 101
        }
      ]
    },
    {
      "cell_type": "code",
      "source": [
        "reselience = 20 * math.log10(1/g)"
      ],
      "metadata": {
        "id": "-lplAXVy-kFe"
      },
      "execution_count": 102,
      "outputs": []
    },
    {
      "cell_type": "code",
      "source": [
        "reselience"
      ],
      "metadata": {
        "colab": {
          "base_uri": "https://localhost:8080/"
        },
        "id": "A1FWA-np_O-2",
        "outputId": "d555d2bd-f2a9-495a-e526-af2ad74bf925"
      },
      "execution_count": 103,
      "outputs": [
        {
          "output_type": "execute_result",
          "data": {
            "text/plain": [
              "-22.837312886181344"
            ]
          },
          "metadata": {},
          "execution_count": 103
        }
      ]
    }
  ]
}